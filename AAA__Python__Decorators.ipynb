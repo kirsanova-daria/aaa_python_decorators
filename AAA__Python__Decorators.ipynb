{
  "cells": [
    {
      "cell_type": "markdown",
      "id": "11a22a53",
      "metadata": {
        "id": "11a22a53"
      },
      "source": [
        "# Дектораторы\n",
        "\n",
        "В этом домашнем задании мы напишем собственные дектораторы, которые будут менять системные объекты. Но для начала мы с вами познакомимся с функцией `write`."
      ]
    },
    {
      "cell_type": "code",
      "execution_count": null,
      "id": "2c2dc3b0",
      "metadata": {
        "id": "2c2dc3b0"
      },
      "outputs": [],
      "source": [
        "import sys\n",
        "\n",
        "sys.stdout.write('Hello, my friend!')"
      ]
    },
    {
      "cell_type": "markdown",
      "id": "23c92635",
      "metadata": {
        "id": "23c92635"
      },
      "source": [
        "Это метод объектов file-like классов, то есть классов, которые реализуют семантику \"Меня можно создать, из меня можно прочитать и в меня можно записать\".\n",
        "\n",
        "Самый главный пример такого объекта -- объект `file`, являющийся результатом вызова фукнции `open()`. Для простоты и универсальности взаимодействия, стандартный ввод и стандартный вывод тоже являются файлами, из которых можно читать и в которые можно писать. "
      ]
    },
    {
      "cell_type": "code",
      "execution_count": null,
      "id": "0ce62055",
      "metadata": {
        "id": "0ce62055"
      },
      "outputs": [],
      "source": [
        "output = open(\"./some_test_data.txt\", 'w')"
      ]
    },
    {
      "cell_type": "code",
      "execution_count": null,
      "id": "302f574f",
      "metadata": {
        "colab": {
          "base_uri": "https://localhost:8080/"
        },
        "id": "302f574f",
        "outputId": "a931b748-4fe2-4b73-e909-b5ee7bafeb90"
      },
      "outputs": [
        {
          "output_type": "execute_result",
          "data": {
            "text/plain": [
              "3"
            ]
          },
          "metadata": {},
          "execution_count": 3
        }
      ],
      "source": [
        "output.write('123')"
      ]
    },
    {
      "cell_type": "code",
      "execution_count": null,
      "id": "d08c53b4",
      "metadata": {
        "id": "d08c53b4"
      },
      "outputs": [],
      "source": [
        "output.close()"
      ]
    },
    {
      "cell_type": "markdown",
      "id": "b3bcebad",
      "metadata": {
        "id": "b3bcebad"
      },
      "source": [
        "Как вы могли заметить, функция возвращает число записанных байт. Это важная часть контракта, которую нужно поддержать, если вы хотите как-то подменять эту функцию."
      ]
    },
    {
      "cell_type": "markdown",
      "id": "23b94491",
      "metadata": {
        "id": "23b94491"
      },
      "source": [
        "## Задача 1"
      ]
    },
    {
      "cell_type": "markdown",
      "id": "1eb22a2f",
      "metadata": {
        "id": "1eb22a2f"
      },
      "source": [
        "Для начала, давайте подменим метод `write` у объекта `sys.stdin` на такую функцию, которая перед каждым вызовом оригинальной функции записи данных в `stdout` допечатывает к тексту текущую метку времени."
      ]
    },
    {
      "cell_type": "code",
      "source": [
        "from datetime import datetime\n",
        "import pytz"
      ],
      "metadata": {
        "id": "EZf_a3KX8QLj"
      },
      "id": "EZf_a3KX8QLj",
      "execution_count": null,
      "outputs": []
    },
    {
      "cell_type": "code",
      "execution_count": null,
      "id": "732073b9",
      "metadata": {
        "id": "732073b9"
      },
      "outputs": [],
      "source": [
        "original_write = sys.stdout.write\n",
        "\n",
        "def my_write(string_text):\n",
        "    # Write your own code\n",
        "    now = datetime.now(pytz.timezone('Europe/Moscow'))\n",
        "    current_datetime = now.strftime('%Y-%m-%d %H:%M:%S')\n",
        "    if string_text != '\\n':\n",
        "        my_text = f'[{current_datetime}]: {string_text}'\n",
        "        original_write(my_text)\n",
        "        return len(my_text)\n",
        "    else:\n",
        "        original_write(string_text)\n",
        "        return len(string_text)\n",
        "\n",
        "sys.stdout.write = my_write"
      ]
    },
    {
      "cell_type": "code",
      "execution_count": null,
      "id": "d8f650f6",
      "metadata": {
        "colab": {
          "base_uri": "https://localhost:8080/"
        },
        "id": "d8f650f6",
        "outputId": "628829fc-fbca-4b2a-b77a-53dd304292b2"
      },
      "outputs": [
        {
          "output_type": "stream",
          "name": "stdout",
          "text": [
            "[2022-12-03 17:09:02]: 1, 2, 3\n"
          ]
        }
      ],
      "source": [
        "print('1, 2, 3')"
      ]
    },
    {
      "cell_type": "code",
      "execution_count": null,
      "id": "37617332",
      "metadata": {
        "id": "37617332"
      },
      "outputs": [],
      "source": [
        "sys.stdout.write = original_write"
      ]
    },
    {
      "cell_type": "markdown",
      "id": "3c5e22b6",
      "metadata": {
        "id": "3c5e22b6"
      },
      "source": [
        "Вывод должен был бы быть примерно таким:"
      ]
    },
    {
      "cell_type": "markdown",
      "id": "e62d012d",
      "metadata": {
        "id": "e62d012d"
      },
      "source": [
        "```\n",
        "[2021-12-05 12:00:00]: 1, 2, 3\n",
        "```"
      ]
    },
    {
      "cell_type": "markdown",
      "id": "903fcee1",
      "metadata": {
        "id": "903fcee1"
      },
      "source": [
        "## Задача 2\n",
        "\n",
        "Упакуйте только что написанный код в декторатор. Весь вывод фукнции должен быть помечен временными метками так, как видно выше."
      ]
    },
    {
      "cell_type": "code",
      "execution_count": null,
      "id": "5804423b",
      "metadata": {
        "id": "5804423b"
      },
      "outputs": [],
      "source": [
        "def timed_output(function):\n",
        "    # TODO: Write your code.\n",
        "    def wrapper(text):\n",
        "        now = datetime.now(pytz.timezone('Europe/Moscow'))\n",
        "        current_datetime = now.strftime('%Y-%m-%d %H:%M:%S')\n",
        "        print(f'[{current_datetime}]:', end=' ')\n",
        "        function(text)\n",
        "    return wrapper    \n"
      ]
    },
    {
      "cell_type": "code",
      "execution_count": null,
      "id": "f43373a5",
      "metadata": {
        "id": "f43373a5"
      },
      "outputs": [],
      "source": [
        "@timed_output\n",
        "def print_greeting(name):\n",
        "    print(f'Hello, {name}!')"
      ]
    },
    {
      "cell_type": "code",
      "execution_count": null,
      "id": "6a2283db",
      "metadata": {
        "id": "6a2283db",
        "outputId": "8102a73c-3e33-4ff3-ad02-8570385ef2df",
        "colab": {
          "base_uri": "https://localhost:8080/"
        }
      },
      "outputs": [
        {
          "output_type": "stream",
          "name": "stdout",
          "text": [
            "[2022-12-03 18:17:33]: Hello, Nikita!\n"
          ]
        }
      ],
      "source": [
        "print_greeting(\"Nikita\")"
      ]
    },
    {
      "cell_type": "markdown",
      "id": "37fad5fd",
      "metadata": {
        "id": "37fad5fd"
      },
      "source": [
        "Вывод должен быть похож на следующий:\n",
        "\n",
        "```\n",
        "[2021-12-05 12:00:00]: Hello, Nikita!\n",
        "```"
      ]
    },
    {
      "cell_type": "markdown",
      "id": "8a3aee6d",
      "metadata": {
        "id": "8a3aee6d"
      },
      "source": [
        "## Задача 3\n",
        "\n",
        "Напишите декторатор, который будет перенаправлять вывод фукнции в файл. \n",
        "\n",
        "Подсказка: вы можете заменить объект sys.stdout каким-нибудь другим объектом."
      ]
    },
    {
      "cell_type": "code",
      "source": [
        "def redirect_output(filepath):\n",
        "    def decorator(func):\n",
        "        def wrapper():\n",
        "            with open(filepath, \"w\") as f:\n",
        "                sys.stdout = f\n",
        "                res = func()\n",
        "            return res\n",
        "        return wrapper\n",
        "    return decorator\n"
      ],
      "metadata": {
        "id": "G_6ErcoUuijh"
      },
      "id": "G_6ErcoUuijh",
      "execution_count": null,
      "outputs": []
    },
    {
      "cell_type": "code",
      "source": [
        "@redirect_output('./function_output.txt')\n",
        "def calculate():\n",
        "    for power in range(1, 5):\n",
        "        for num in range(1, 20):\n",
        "            print(num ** power, end=' ')\n",
        "        print()"
      ],
      "metadata": {
        "id": "KXpuZXFtqsUQ"
      },
      "id": "KXpuZXFtqsUQ",
      "execution_count": null,
      "outputs": []
    },
    {
      "cell_type": "code",
      "execution_count": null,
      "id": "e892f124",
      "metadata": {
        "id": "e892f124"
      },
      "outputs": [],
      "source": [
        "calculate()"
      ]
    },
    {
      "cell_type": "code",
      "execution_count": null,
      "id": "ac06c89e",
      "metadata": {
        "id": "ac06c89e",
        "outputId": "1eae8583-e30d-44c5-c8cf-6cd5d3521b72"
      },
      "outputs": [
        {
          "name": "stdout",
          "output_type": "stream",
          "text": [
            "1 2 3 4 5 6 7 8 9 10 11 12 13 14 15 16 17 18 19 \r\n",
            "1 4 9 16 25 36 49 64 81 100 121 144 169 196 225 256 289 324 361 \r\n",
            "1 8 27 64 125 216 343 512 729 1000 1331 1728 2197 2744 3375 4096 4913 5832 6859 \r\n",
            "1 16 81 256 625 1296 2401 4096 6561 10000 14641 20736 28561 38416 50625 65536 83521 104976 130321 \r\n"
          ]
        }
      ],
      "source": [
        "%cat function_output.txt"
      ]
    },
    {
      "cell_type": "code",
      "execution_count": null,
      "id": "1dcf9ba1",
      "metadata": {
        "id": "1dcf9ba1"
      },
      "outputs": [],
      "source": []
    }
  ],
  "metadata": {
    "kernelspec": {
      "display_name": "Python 3 (ipykernel)",
      "language": "python",
      "name": "python3"
    },
    "language_info": {
      "codemirror_mode": {
        "name": "ipython",
        "version": 3
      },
      "file_extension": ".py",
      "mimetype": "text/x-python",
      "name": "python",
      "nbconvert_exporter": "python",
      "pygments_lexer": "ipython3",
      "version": "3.9.9"
    },
    "colab": {
      "provenance": []
    }
  },
  "nbformat": 4,
  "nbformat_minor": 5
}
